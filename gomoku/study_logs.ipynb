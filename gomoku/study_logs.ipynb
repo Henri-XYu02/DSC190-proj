{
 "cells": [
  {
   "cell_type": "code",
   "execution_count": 1,
   "metadata": {},
   "outputs": [],
   "source": [
    "def report_RBLM_IMR(path):\n",
    "    with open(path, 'r') as f:\n",
    "        lines = f.readlines()\n",
    "    valid = 0\n",
    "    invalid = 0\n",
    "    for line in lines:\n",
    "        if line.startswith('Valid'):\n",
    "            valid += 1\n",
    "        else:\n",
    "            invalid += 1\n",
    "    \n",
    "    IMR = valid / (valid + invalid)\n",
    "    print(f'IMR: {IMR:.2f}')\n",
    "    \n",
    "    last_valid = 0\n",
    "    retries = 0\n",
    "    for line in lines:\n",
    "        # find the average number of retries before next valid\n",
    "        if not line.startswith('Valid') and last_valid == 0:\n",
    "            retries += 1\n",
    "        elif line.startswith('Valid'):\n",
    "            last_valid = 1\n",
    "        else:\n",
    "            last_valid = 0\n",
    "    \n",
    "    RBLM = retries / valid\n",
    "    print(f'RBLM: {RBLM:.2f}')"
   ]
  },
  {
   "cell_type": "code",
   "execution_count": 2,
   "metadata": {},
   "outputs": [
    {
     "name": "stdout",
     "output_type": "stream",
     "text": [
      "IMR: 0.11\n",
      "RBLM: 7.39\n",
      "IMR: 0.12\n",
      "RBLM: 6.55\n"
     ]
    }
   ],
   "source": [
    "report_RBLM_IMR('result/error_log_gpt_no_rules.txt')\n",
    "report_RBLM_IMR('result/error_log_gpt_rules.txt')"
   ]
  },
  {
   "cell_type": "code",
   "execution_count": null,
   "metadata": {},
   "outputs": [],
   "source": []
  }
 ],
 "metadata": {
  "kernelspec": {
   "display_name": "base",
   "language": "python",
   "name": "python3"
  },
  "language_info": {
   "codemirror_mode": {
    "name": "ipython",
    "version": 3
   },
   "file_extension": ".py",
   "mimetype": "text/x-python",
   "name": "python",
   "nbconvert_exporter": "python",
   "pygments_lexer": "ipython3",
   "version": "3.11.7"
  }
 },
 "nbformat": 4,
 "nbformat_minor": 2
}
